{
 "cells": [
  {
   "cell_type": "markdown",
   "metadata": {},
   "source": [
    "Playing around with some stuff"
   ]
  },
  {
   "cell_type": "code",
   "execution_count": 84,
   "metadata": {},
   "outputs": [
    {
     "ename": "ImportError",
     "evalue": "cannot import name 'linear_model' from 'sklearn.linear_model' (/Library/Frameworks/Python.framework/Versions/3.9/lib/python3.9/site-packages/sklearn/linear_model/__init__.py)",
     "output_type": "error",
     "traceback": [
      "\u001b[0;31m---------------------------------------------------------------------------\u001b[0m",
      "\u001b[0;31mImportError\u001b[0m                               Traceback (most recent call last)",
      "\u001b[1;32m/Users/noahbarton/OneDrive - UC San Diego/Data Science in Oceanography, Undergraduate Summer Program/Seismic Wave Speed From an Alaska Earthquake/just playin around.ipynb Cell 2\u001b[0m in \u001b[0;36m<cell line: 9>\u001b[0;34m()\u001b[0m\n\u001b[1;32m      <a href='vscode-notebook-cell:/Users/noahbarton/OneDrive%20-%20UC%20San%20Diego/Data%20Science%20in%20Oceanography%2C%20Undergraduate%20Summer%20Program/Seismic%20Wave%20Speed%20From%20an%20Alaska%20Earthquake/just%20playin%20around.ipynb#W1sZmlsZQ%3D%3D?line=6'>7</a>\u001b[0m \u001b[39mfrom\u001b[39;00m \u001b[39mcollections\u001b[39;00m \u001b[39mimport\u001b[39;00m defaultdict\n\u001b[1;32m      <a href='vscode-notebook-cell:/Users/noahbarton/OneDrive%20-%20UC%20San%20Diego/Data%20Science%20in%20Oceanography%2C%20Undergraduate%20Summer%20Program/Seismic%20Wave%20Speed%20From%20an%20Alaska%20Earthquake/just%20playin%20around.ipynb#W1sZmlsZQ%3D%3D?line=7'>8</a>\u001b[0m \u001b[39mimport\u001b[39;00m \u001b[39mmatplotlib\u001b[39;00m\u001b[39m.\u001b[39;00m\u001b[39mpyplot\u001b[39;00m \u001b[39mas\u001b[39;00m \u001b[39mplt\u001b[39;00m\n\u001b[0;32m----> <a href='vscode-notebook-cell:/Users/noahbarton/OneDrive%20-%20UC%20San%20Diego/Data%20Science%20in%20Oceanography%2C%20Undergraduate%20Summer%20Program/Seismic%20Wave%20Speed%20From%20an%20Alaska%20Earthquake/just%20playin%20around.ipynb#W1sZmlsZQ%3D%3D?line=8'>9</a>\u001b[0m \u001b[39mfrom\u001b[39;00m \u001b[39msklearn\u001b[39;00m\u001b[39m.\u001b[39;00m\u001b[39mlinear_model\u001b[39;00m \u001b[39mimport\u001b[39;00m linear_model\n",
      "\u001b[0;31mImportError\u001b[0m: cannot import name 'linear_model' from 'sklearn.linear_model' (/Library/Frameworks/Python.framework/Versions/3.9/lib/python3.9/site-packages/sklearn/linear_model/__init__.py)"
     ]
    }
   ],
   "source": [
    "import obspy\n",
    "import numpy as np\n",
    "from obspy.clients.fdsn.client import Client\n",
    "#import cartopy TODO Can't install cartopy\n",
    "import pandas as pd\n",
    "import geopandas as gpd\n",
    "from collections import defaultdict\n",
    "import matplotlib.pyplot as plt\n",
    "from sklearn.linear_model import linear_model"
   ]
  },
  {
   "cell_type": "code",
   "execution_count": 2,
   "metadata": {},
   "outputs": [],
   "source": [
    "# Make an obspy Catalog object from the QuakeML file.\n",
    "cat = obspy.core.event.read_events('XO_2019_01.quakeml')"
   ]
  },
  {
   "cell_type": "code",
   "execution_count": 25,
   "metadata": {},
   "outputs": [],
   "source": [
    "event = cat[7]\n",
    "arrivals = event.origins[0].arrivals\n",
    "p_arr = [a for a in arrivals if a.phase=='P']\n",
    "s_arr = [a for a in arrivals if a.phase=='S']\n",
    "p_dist = [a.distance * 111 for a in p_arr]\n",
    "s_dist = [s.distance * 111 for s in s_arr]\n",
    "p_pick = [p for p in event.picks if p.resource_id in [a.pick_id for a in p_arr]]\n",
    "s_pick = [p for p in event.picks if p.resource_id in [a.pick_id for a in s_arr]]\n",
    "p_tt = [p.time - event.origins[0].time for p in p_pick]\n",
    "s_tt = [s.time - event.origins[0].time for s in s_pick]\n",
    "p_az = [p.azimuth for p in p_arr]\n",
    "s_az = [s.azimuth for s in s_arr]\n",
    "#Maleen's code"
   ]
  },
  {
   "cell_type": "code",
   "execution_count": 55,
   "metadata": {},
   "outputs": [
    {
     "data": {
      "text/plain": [
       "Pick\n",
       "\t     resource_id: ResourceIdentifier(id=\"quakeml:earthquake.alaska.edu/pick/1574\")\n",
       "\t            time: UTCDateTime(2019, 1, 2, 6, 50, 17, 575000)\n",
       "\t     waveform_id: WaveformStreamID(network_code='TA', station_code='I17K', channel_code='BHZ', location_code='--')\n",
       "\t evaluation_mode: 'automatic'\n",
       "\t   creation_info: CreationInfo(agency_id='AK', author='Alaska Earthquake Center, UAF/GI', creation_time=UTCDateTime(2019, 1, 2, 6, 51, 5, 319000))"
      ]
     },
     "execution_count": 55,
     "metadata": {},
     "output_type": "execute_result"
    }
   ],
   "source": [
    "cat[7].picks[2]"
   ]
  },
  {
   "cell_type": "code",
   "execution_count": 72,
   "metadata": {},
   "outputs": [
    {
     "data": {
      "text/plain": [
       "2019-01-02T06:48:43.723000Z"
      ]
     },
     "execution_count": 72,
     "metadata": {},
     "output_type": "execute_result"
    }
   ],
   "source": [
    "cat[7].origins[0].time"
   ]
  },
  {
   "cell_type": "code",
   "execution_count": 88,
   "metadata": {},
   "outputs": [
    {
     "data": {
      "text/html": [
       "<div>\n",
       "<style scoped>\n",
       "    .dataframe tbody tr th:only-of-type {\n",
       "        vertical-align: middle;\n",
       "    }\n",
       "\n",
       "    .dataframe tbody tr th {\n",
       "        vertical-align: top;\n",
       "    }\n",
       "\n",
       "    .dataframe thead th {\n",
       "        text-align: right;\n",
       "    }\n",
       "</style>\n",
       "<table border=\"1\" class=\"dataframe\">\n",
       "  <thead>\n",
       "    <tr style=\"text-align: right;\">\n",
       "      <th></th>\n",
       "      <th>phase</th>\n",
       "      <th>azimuth</th>\n",
       "      <th>distance</th>\n",
       "      <th>pick_id</th>\n",
       "      <th>time</th>\n",
       "      <th>network_code</th>\n",
       "      <th>station_code</th>\n",
       "      <th>travel_time</th>\n",
       "    </tr>\n",
       "  </thead>\n",
       "  <tbody>\n",
       "    <tr>\n",
       "      <th>120</th>\n",
       "      <td>P</td>\n",
       "      <td>194.20</td>\n",
       "      <td>53.946</td>\n",
       "      <td>quakeml:earthquake.alaska.edu/pick/1263</td>\n",
       "      <td>2019-01-02T06:48:54.890000Z</td>\n",
       "      <td>XO</td>\n",
       "      <td>KD05</td>\n",
       "      <td>11.167</td>\n",
       "    </tr>\n",
       "    <tr>\n",
       "      <th>121</th>\n",
       "      <td>P</td>\n",
       "      <td>56.89</td>\n",
       "      <td>54.612</td>\n",
       "      <td>quakeml:earthquake.alaska.edu/pick/1264</td>\n",
       "      <td>2019-01-02T06:48:55.078000Z</td>\n",
       "      <td>AV</td>\n",
       "      <td>Q20K</td>\n",
       "      <td>11.355</td>\n",
       "    </tr>\n",
       "    <tr>\n",
       "      <th>122</th>\n",
       "      <td>P</td>\n",
       "      <td>149.69</td>\n",
       "      <td>61.827</td>\n",
       "      <td>quakeml:earthquake.alaska.edu/pick/1265</td>\n",
       "      <td>2019-01-02T06:48:55.960000Z</td>\n",
       "      <td>XO</td>\n",
       "      <td>KD02</td>\n",
       "      <td>12.237</td>\n",
       "    </tr>\n",
       "    <tr>\n",
       "      <th>123</th>\n",
       "      <td>P</td>\n",
       "      <td>337.99</td>\n",
       "      <td>70.152</td>\n",
       "      <td>quakeml:earthquake.alaska.edu/pick/1266</td>\n",
       "      <td>2019-01-02T06:48:56.699000Z</td>\n",
       "      <td>AK</td>\n",
       "      <td>Q19K</td>\n",
       "      <td>12.976</td>\n",
       "    </tr>\n",
       "    <tr>\n",
       "      <th>124</th>\n",
       "      <td>P</td>\n",
       "      <td>150.14</td>\n",
       "      <td>71.595</td>\n",
       "      <td>quakeml:earthquake.alaska.edu/pick/1267</td>\n",
       "      <td>2019-01-02T06:48:56.768000Z</td>\n",
       "      <td>II</td>\n",
       "      <td>KDAK</td>\n",
       "      <td>13.045</td>\n",
       "    </tr>\n",
       "    <tr>\n",
       "      <th>...</th>\n",
       "      <td>...</td>\n",
       "      <td>...</td>\n",
       "      <td>...</td>\n",
       "      <td>...</td>\n",
       "      <td>...</td>\n",
       "      <td>...</td>\n",
       "      <td>...</td>\n",
       "      <td>...</td>\n",
       "    </tr>\n",
       "    <tr>\n",
       "      <th>114</th>\n",
       "      <td>P</td>\n",
       "      <td>3.00</td>\n",
       "      <td>1088.910</td>\n",
       "      <td>quakeml:earthquake.alaska.edu/pick/1686</td>\n",
       "      <td>2019-01-02T06:51:00.811000Z</td>\n",
       "      <td>AK</td>\n",
       "      <td>E22K</td>\n",
       "      <td>137.088</td>\n",
       "    </tr>\n",
       "    <tr>\n",
       "      <th>115</th>\n",
       "      <td>P</td>\n",
       "      <td>82.37</td>\n",
       "      <td>1092.795</td>\n",
       "      <td>quakeml:earthquake.alaska.edu/pick/1687</td>\n",
       "      <td>2019-01-02T06:51:01.197000Z</td>\n",
       "      <td>AK</td>\n",
       "      <td>JIS</td>\n",
       "      <td>137.474</td>\n",
       "    </tr>\n",
       "    <tr>\n",
       "      <th>116</th>\n",
       "      <td>P</td>\n",
       "      <td>87.11</td>\n",
       "      <td>1098.234</td>\n",
       "      <td>quakeml:earthquake.alaska.edu/pick/1688</td>\n",
       "      <td>2019-01-02T06:51:01.451000Z</td>\n",
       "      <td>AK</td>\n",
       "      <td>S32K</td>\n",
       "      <td>137.728</td>\n",
       "    </tr>\n",
       "    <tr>\n",
       "      <th>117</th>\n",
       "      <td>P</td>\n",
       "      <td>10.19</td>\n",
       "      <td>1104.672</td>\n",
       "      <td>quakeml:earthquake.alaska.edu/pick/1689</td>\n",
       "      <td>2019-01-02T06:51:01.894000Z</td>\n",
       "      <td>AK</td>\n",
       "      <td>E24K</td>\n",
       "      <td>138.171</td>\n",
       "    </tr>\n",
       "    <tr>\n",
       "      <th>118</th>\n",
       "      <td>S</td>\n",
       "      <td>240.71</td>\n",
       "      <td>662.448</td>\n",
       "      <td>quakeml:earthquake.alaska.edu/pick/1690</td>\n",
       "      <td>2019-01-02T06:51:14.148000Z</td>\n",
       "      <td>XO</td>\n",
       "      <td>WS28</td>\n",
       "      <td>150.425</td>\n",
       "    </tr>\n",
       "  </tbody>\n",
       "</table>\n",
       "<p>428 rows × 8 columns</p>\n",
       "</div>"
      ],
      "text/plain": [
       "    phase  azimuth  distance                                  pick_id  \\\n",
       "120     P   194.20    53.946  quakeml:earthquake.alaska.edu/pick/1263   \n",
       "121     P    56.89    54.612  quakeml:earthquake.alaska.edu/pick/1264   \n",
       "122     P   149.69    61.827  quakeml:earthquake.alaska.edu/pick/1265   \n",
       "123     P   337.99    70.152  quakeml:earthquake.alaska.edu/pick/1266   \n",
       "124     P   150.14    71.595  quakeml:earthquake.alaska.edu/pick/1267   \n",
       "..    ...      ...       ...                                      ...   \n",
       "114     P     3.00  1088.910  quakeml:earthquake.alaska.edu/pick/1686   \n",
       "115     P    82.37  1092.795  quakeml:earthquake.alaska.edu/pick/1687   \n",
       "116     P    87.11  1098.234  quakeml:earthquake.alaska.edu/pick/1688   \n",
       "117     P    10.19  1104.672  quakeml:earthquake.alaska.edu/pick/1689   \n",
       "118     S   240.71   662.448  quakeml:earthquake.alaska.edu/pick/1690   \n",
       "\n",
       "                            time network_code station_code travel_time  \n",
       "120  2019-01-02T06:48:54.890000Z           XO         KD05      11.167  \n",
       "121  2019-01-02T06:48:55.078000Z           AV         Q20K      11.355  \n",
       "122  2019-01-02T06:48:55.960000Z           XO         KD02      12.237  \n",
       "123  2019-01-02T06:48:56.699000Z           AK         Q19K      12.976  \n",
       "124  2019-01-02T06:48:56.768000Z           II         KDAK      13.045  \n",
       "..                           ...          ...          ...         ...  \n",
       "114  2019-01-02T06:51:00.811000Z           AK         E22K     137.088  \n",
       "115  2019-01-02T06:51:01.197000Z           AK          JIS     137.474  \n",
       "116  2019-01-02T06:51:01.451000Z           AK         S32K     137.728  \n",
       "117  2019-01-02T06:51:01.894000Z           AK         E24K     138.171  \n",
       "118  2019-01-02T06:51:14.148000Z           XO         WS28     150.425  \n",
       "\n",
       "[428 rows x 8 columns]"
      ]
     },
     "execution_count": 88,
     "metadata": {},
     "output_type": "execute_result"
    }
   ],
   "source": [
    "def quakeMLReader(event):\n",
    "    epicenter = (event.origins[0].latitude, event.origins[0].longitude)\n",
    "    magnitude = event.magnitudes[0].mag\n",
    "    birthday = event.origins[0].time\n",
    "    results = []\n",
    "    for arrival in event.origins[0].arrivals:\n",
    "        phase = arrival.phase\n",
    "        azi = arrival.azimuth\n",
    "        dist = arrival.distance * 111 #there is a note in Maleen's code about this being in degrees\n",
    "        pick_id = arrival.pick_id\n",
    "        result = [phase, azi, dist, pick_id]\n",
    "        results.append(result)\n",
    "    arrivals = pd.DataFrame(results)\n",
    "    arrivals.columns = ['phase','azimuth','distance','pick_id']\n",
    "    results = []\n",
    "    for pick in event.picks:\n",
    "        pick_id = pick.resource_id\n",
    "        time = pick.time\n",
    "        network_code = pick.waveform_id.network_code\n",
    "        station_code = pick.waveform_id.station_code\n",
    "        result = [pick_id, time, network_code, station_code]\n",
    "        results.append(result)\n",
    "    picks = pd.DataFrame(results)\n",
    "    picks.columns = (['pick_id','time','network_code','station_code'])\n",
    "    picks['travel_time'] = picks['time'] - birthday\n",
    "    return arrivals.merge(picks, left_on='pick_id', right_on='pick_id').sort_values(by='travel_time')\n",
    "log = quakeMLReader(cat[7])\n",
    "log"
   ]
  },
  {
   "cell_type": "code",
   "execution_count": 89,
   "metadata": {},
   "outputs": [
    {
     "name": "stdout",
     "output_type": "stream",
     "text": [
      "P-wave slope is 8.167426703737915 km/s.\n",
      "S-wave slope is 4.825493373364722 km/s.\n"
     ]
    },
    {
     "data": {
      "image/png": "[encoded data removed]",
      "text/plain": [
       "<Figure size 720x720 with 1 Axes>"
      ]
     },
     "metadata": {
      "needs_background": "light"
     },
     "output_type": "display_data"
    }
   ],
   "source": [
    "#replicating Maleen's plot\n",
    "p_log = log[log['phase'] == 'P']\n",
    "s_log = log[log['phase'] == 'S']\n",
    "\n",
    "fig,ax = plt.subplots(1,1,figsize=[10,10])\n",
    "ax.plot(p_log['travel_time'],p_log['distance'],'.')\n",
    "ax.plot(s_log['travel_time'],s_log['distance'],'.')\n",
    "ax.set_xlabel('Travel time (s)')\n",
    "ax.set_ylabel('Distance (km)')\n",
    "ax.legend(['P-waves','S-waves'])\n",
    "\n",
    "np.polyfit(p_log['travel_time'].tolist(),p_log['distance'].tolist(),1)\n",
    "\n",
    "# P-wave fit\n",
    "m,b = np.polyfit(p_log['travel_time'].tolist(),p_log['distance'].tolist(),1)\n",
    "x_p = np.linspace(0,150)\n",
    "ax.plot(x_p,x_p*m + b,'-')\n",
    "print('P-wave slope is '+str(m)+' km/s.')\n",
    "\n",
    "# S-wave fit\n",
    "m,b = np.polyfit(s_log['travel_time'].tolist(),s_log['distance'].tolist(),1)\n",
    "x_p = np.linspace(0,150)\n",
    "ax.plot(x_p,x_p*m + b,'-')\n",
    "print('S-wave slope is '+str(m)+' km/s.')"
   ]
  }
 ],
 "metadata": {
  "kernelspec": {
   "display_name": "Python 3.9.2 64-bit",
   "language": "python",
   "name": "python3"
  },
  "language_info": {
   "codemirror_mode": {
    "name": "ipython",
    "version": 3
   },
   "file_extension": ".py",
   "mimetype": "text/x-python",
   "name": "python",
   "nbconvert_exporter": "python",
   "pygments_lexer": "ipython3",
   "version": "3.9.2"
  },
  "orig_nbformat": 4,
  "vscode": {
   "interpreter": {
    "hash": "aee8b7b246df8f9039afb4144a1f6fd8d2ca17a180786b69acc140d282b71a49"
   }
  }
 },
 "nbformat": 4,
 "nbformat_minor": 2
}
